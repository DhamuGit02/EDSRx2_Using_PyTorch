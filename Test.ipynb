{
 "cells": [
  {
   "cell_type": "markdown",
   "id": "584762a3",
   "metadata": {},
   "source": [
    "## TESTING ESDRx2 MODEL"
   ]
  },
  {
   "cell_type": "code",
   "execution_count": 1,
   "id": "2d8737f6",
   "metadata": {},
   "outputs": [],
   "source": [
    "import torch, cv2, os, time\n",
    "from torchvision import transforms\n",
    "from PIL import Image"
   ]
  },
  {
   "cell_type": "code",
   "execution_count": 2,
   "id": "2e0be056",
   "metadata": {},
   "outputs": [
    {
     "data": {
      "text/plain": [
       "RecursiveScriptModule(\n",
       "  original_name=EDSR\n",
       "  (conv1): RecursiveScriptModule(original_name=Conv2d)\n",
       "  (res_blocks): RecursiveScriptModule(\n",
       "    original_name=Sequential\n",
       "    (0): RecursiveScriptModule(\n",
       "      original_name=ResidualBlock\n",
       "      (conv1): RecursiveScriptModule(original_name=Conv2d)\n",
       "      (relu): RecursiveScriptModule(original_name=ReLU)\n",
       "      (conv2): RecursiveScriptModule(original_name=Conv2d)\n",
       "    )\n",
       "    (1): RecursiveScriptModule(\n",
       "      original_name=ResidualBlock\n",
       "      (conv1): RecursiveScriptModule(original_name=Conv2d)\n",
       "      (relu): RecursiveScriptModule(original_name=ReLU)\n",
       "      (conv2): RecursiveScriptModule(original_name=Conv2d)\n",
       "    )\n",
       "    (2): RecursiveScriptModule(\n",
       "      original_name=ResidualBlock\n",
       "      (conv1): RecursiveScriptModule(original_name=Conv2d)\n",
       "      (relu): RecursiveScriptModule(original_name=ReLU)\n",
       "      (conv2): RecursiveScriptModule(original_name=Conv2d)\n",
       "    )\n",
       "    (3): RecursiveScriptModule(\n",
       "      original_name=ResidualBlock\n",
       "      (conv1): RecursiveScriptModule(original_name=Conv2d)\n",
       "      (relu): RecursiveScriptModule(original_name=ReLU)\n",
       "      (conv2): RecursiveScriptModule(original_name=Conv2d)\n",
       "    )\n",
       "  )\n",
       "  (conv2): RecursiveScriptModule(original_name=Conv2d)\n",
       "  (upsample): RecursiveScriptModule(\n",
       "    original_name=Sequential\n",
       "    (0): RecursiveScriptModule(original_name=Conv2d)\n",
       "    (1): RecursiveScriptModule(original_name=PixelShuffle)\n",
       "  )\n",
       "  (conv3): RecursiveScriptModule(original_name=Conv2d)\n",
       ")"
      ]
     },
     "execution_count": 2,
     "metadata": {},
     "output_type": "execute_result"
    }
   ],
   "source": [
    "model = torch.jit.load(\"./saved_models/EDSRx2v4.20.pt\").cpu()\n",
    "model.eval()"
   ]
  },
  {
   "cell_type": "code",
   "execution_count": 3,
   "id": "5b74a17d",
   "metadata": {},
   "outputs": [],
   "source": [
    "def SuperSample(img=None, scale_factor=2):\n",
    "    image_transform = transforms.Compose([\n",
    "        transforms.ToTensor(),  # Convert the image to a PyTorch tensor\n",
    "    ])\n",
    "    if img != None:\n",
    "        # Load the input image\n",
    "        input_image = Image.open(img).convert('RGB')\n",
    "        input_image = image_transform(input_image).unsqueeze(0)  # Add a batch dimension\n",
    "#         # Move the input image to the GPU if available\n",
    "#         if torch.cuda.is_available():\n",
    "#             input_image = input_image.cuda()\n",
    "        input_image = input_image.cpu()\n",
    "        # Perform image upscaling\n",
    "        with torch.no_grad():\n",
    "            print(\"Super Sampling Image...\", end=\"\\n\")\n",
    "            output_image = model(input_image)\n",
    "        # Convert the output tensor to a PIL image\n",
    "        output_image = output_image.squeeze(0).cpu().clamp(0, 1).numpy()\n",
    "        output_image = (output_image.transpose(1, 2, 0) * 255).astype('uint8')\n",
    "        output_image = Image.fromarray(output_image)\n",
    "        output_image.save(\"temp.jpg\")\n",
    "        print(\"Post-Processing Image...\")\n",
    "        #post-processing\n",
    "        kernel = (5, 5)\n",
    "        output_image = cv2.imread(\"./temp.jpg\")\n",
    "        os.remove(\"temp.jpg\")\n",
    "        gauss_img = cv2.GaussianBlur(output_image, kernel, 0)\n",
    "        lin_img = cv2.resize(\n",
    "            gauss_img, (gauss_img.shape[1], gauss_img.shape[0]), interpolation=cv2.INTER_LINEAR\n",
    "        )\n",
    "        sharp_image = cv2.addWeighted(output_image, 1, gauss_img, -0.0002, 0)\n",
    "        gauss_img = cv2.GaussianBlur(sharp_image, (3, 3), 0)\n",
    "        cv2.imwrite('upscaled_image.jpg', output_image)\n",
    "        print(\"Image Generated Successfully!\")\n",
    "        "
   ]
  },
  {
   "cell_type": "code",
   "execution_count": 12,
   "id": "d82b7fb7",
   "metadata": {},
   "outputs": [
    {
     "name": "stdout",
     "output_type": "stream",
     "text": [
      "Super Sampling Image...\n",
      "Post-Processing Image...\n",
      "Image Generated Successfully!\n",
      "Executed in 2.1003267765045166s\n"
     ]
    }
   ],
   "source": [
    "start = time.time()\n",
    "SuperSample(\"../train_LR/0001.png\")\n",
    "end = time.time()\n",
    "print(f\"Executed in {end - start}s\")"
   ]
  },
  {
   "cell_type": "code",
   "execution_count": 10,
   "id": "33987391",
   "metadata": {},
   "outputs": [],
   "source": [
    "def SuperSampleCV2(img=None):\n",
    "    if img != None:\n",
    "        img = cv2.imread(img)\n",
    "        img = cv2.resize(img, (640, 640), interpolation=cv2.INTER_LINEAR)\n",
    "        cv2.imwrite(\"CV2.jpg\", img)"
   ]
  },
  {
   "cell_type": "code",
   "execution_count": 7,
   "id": "56fa1452",
   "metadata": {},
   "outputs": [
    {
     "name": "stdout",
     "output_type": "stream",
     "text": [
      "Executed in 0.008253097534179688s\n"
     ]
    }
   ],
   "source": [
    "start = time.time()\n",
    "SuperSampleCV2(\"../train_LR/0400.png\")\n",
    "end = time.time()\n",
    "print(f\"Executed in {end - start}s\")"
   ]
  },
  {
   "cell_type": "code",
   "execution_count": null,
   "id": "45b1e912",
   "metadata": {},
   "outputs": [],
   "source": []
  }
 ],
 "metadata": {
  "kernelspec": {
   "display_name": "image-enhancer",
   "language": "python",
   "name": "image-enhancer"
  },
  "language_info": {
   "codemirror_mode": {
    "name": "ipython",
    "version": 3
   },
   "file_extension": ".py",
   "mimetype": "text/x-python",
   "name": "python",
   "nbconvert_exporter": "python",
   "pygments_lexer": "ipython3",
   "version": "3.10.0"
  }
 },
 "nbformat": 4,
 "nbformat_minor": 5
}

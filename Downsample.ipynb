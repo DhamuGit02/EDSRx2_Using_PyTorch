{
 "cells": [
  {
   "cell_type": "code",
   "execution_count": 1,
   "id": "8b09459c",
   "metadata": {},
   "outputs": [],
   "source": [
    "import cv2, os\n",
    "from tqdm import tqdm"
   ]
  },
  {
   "cell_type": "code",
   "execution_count": 2,
   "id": "c9d1178e",
   "metadata": {},
   "outputs": [],
   "source": [
    "train_path = r\"D:\\COMPUTER ENGINEERING\\SEMESTER 7\\ML\\Project\\DIV2K_train_HR\\DIV2K_train_HR\""
   ]
  },
  {
   "cell_type": "code",
   "execution_count": 6,
   "id": "96811658",
   "metadata": {},
   "outputs": [],
   "source": [
    "images = [path for path in os.listdir(train_path)]\n"
   ]
  },
  {
   "cell_type": "code",
   "execution_count": 7,
   "id": "5cd232fc",
   "metadata": {},
   "outputs": [],
   "source": [
    "total_images = len(images)"
   ]
  },
  {
   "cell_type": "code",
   "execution_count": 8,
   "id": "b33c4016",
   "metadata": {},
   "outputs": [
    {
     "name": "stderr",
     "output_type": "stream",
     "text": [
      "Downsampling images...: 100%|████████████████████████████████████████████████████████| 800/800 [01:53<00:00,  7.06it/s]\n"
     ]
    }
   ],
   "source": [
    "for i in tqdm(range(total_images), desc=\"Downsampling images...\", total=total_images):\n",
    "    img = cv2.imread(os.path.join(train_path, images[i]))\n",
    "    w, h, c = img.shape\n",
    "    img = cv2.resize(img, (320, 320))\n",
    "    cv2.imwrite(r\"D:\\COMPUTER ENGINEERING\\SEMESTER 7\\ML\\Project\\train_LR\\\\\" + images[i], img)"
   ]
  },
  {
   "cell_type": "code",
   "execution_count": null,
   "id": "67acecf1",
   "metadata": {},
   "outputs": [],
   "source": []
  }
 ],
 "metadata": {
  "kernelspec": {
   "display_name": "image-enhancer",
   "language": "python",
   "name": "image-enhancer"
  },
  "language_info": {
   "codemirror_mode": {
    "name": "ipython",
    "version": 3
   },
   "file_extension": ".py",
   "mimetype": "text/x-python",
   "name": "python",
   "nbconvert_exporter": "python",
   "pygments_lexer": "ipython3",
   "version": "3.10.0"
  }
 },
 "nbformat": 4,
 "nbformat_minor": 5
}
